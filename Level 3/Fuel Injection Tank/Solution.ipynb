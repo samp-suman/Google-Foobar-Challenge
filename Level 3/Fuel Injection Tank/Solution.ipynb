{
 "cells": [
  {
   "cell_type": "code",
   "execution_count": 22,
   "metadata": {},
   "outputs": [],
   "source": [
    "def solution(n):\n",
    "#     n = long(n)\n",
    "\n",
    "    # define lookup table\n",
    "    lookup_table = { 1: 0, 2: 1 }\n",
    "\n",
    "    def calculate_steps(n):\n",
    "        # return memoized value in lookup table\n",
    "        if n in lookup_table:\n",
    "            return lookup_table[n]\n",
    "\n",
    "        # handle safety control limitations (optimized)\n",
    "        if n & 1:\n",
    "            # odd numbers have an extra operation due to constraint\n",
    "            lookup_table[n] = min(calculate_steps((n + 1) >> 1) + 2,\n",
    "                                  calculate_steps((n - 1) >> 1) + 2)\n",
    "        else:\n",
    "            # even numbers add a single operation\n",
    "            lookup_table[n] = calculate_steps(n >> 1) + 1\n",
    "\n",
    "        return lookup_table[n]\n",
    "\n",
    "    # calculate number of steps\n",
    "    result=calculate_steps(n)\n",
    "    if result>=int('9'*309):\n",
    "        return 0\n",
    "    return result"
   ]
  },
  {
   "cell_type": "code",
   "execution_count": null,
   "metadata": {},
   "outputs": [],
   "source": []
  },
  {
   "cell_type": "code",
   "execution_count": null,
   "metadata": {},
   "outputs": [],
   "source": []
  },
  {
   "cell_type": "markdown",
   "metadata": {},
   "source": [
    "**The problem is that given a number, and given 3 operations: add, remove, or divide per 2 only if the number is even, you have to find the quickest way to reduce this number to 1. If you can divide per 2, the answer is obvious: you do because that’s the fastest way to cut down the number, but then the finicky part is: should you add or remove to the number to get to the result ASAP? Ie you can do 3->4->2->1 or you can do 3->4->1, and the time limit doesn’t allow us to try both for each given number. The answer to that happens to lie in binary: we calculate how to get the maximum of 000 in the rightmost bits, which in turn make us prefer to add when we are in a situation where we have 111, making us push to 000 and making the division per 2 easier. Kind of a letdown to get spoiled but eh, we’re getting in the territory of the “if you don’t know that you’re screwed”.**"
   ]
  },
  {
   "cell_type": "code",
   "execution_count": null,
   "metadata": {},
   "outputs": [],
   "source": []
  },
  {
   "cell_type": "code",
   "execution_count": 1,
   "metadata": {},
   "outputs": [],
   "source": [
    "# Accepted Solution.\n",
    "def solution(n):\n",
    "    n=int(n)\n",
    "    res = 0\n",
    "\n",
    "    while(n!=1):\n",
    "        if(n%2==0):\n",
    "            n=n/2\n",
    "        elif((n==3) or ((n+1)&n) > ((n-1)&(n-2))):\n",
    "            n-=1\n",
    "        else:\n",
    "            n+=1\n",
    "        res+=1\n",
    "    return res"
   ]
  },
  {
   "cell_type": "code",
   "execution_count": null,
   "metadata": {},
   "outputs": [],
   "source": []
  },
  {
   "cell_type": "code",
   "execution_count": null,
   "metadata": {},
   "outputs": [],
   "source": []
  }
 ],
 "metadata": {
  "kernelspec": {
   "display_name": "Python 3",
   "language": "python",
   "name": "python3"
  },
  "language_info": {
   "codemirror_mode": {
    "name": "ipython",
    "version": 3
   },
   "file_extension": ".py",
   "mimetype": "text/x-python",
   "name": "python",
   "nbconvert_exporter": "python",
   "pygments_lexer": "ipython3",
   "version": "3.7.1"
  }
 },
 "nbformat": 4,
 "nbformat_minor": 4
}
