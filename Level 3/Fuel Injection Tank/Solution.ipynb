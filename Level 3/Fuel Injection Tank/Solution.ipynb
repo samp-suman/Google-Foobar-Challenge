{
 "cells": [
  {
   "cell_type": "code",
   "execution_count": 1,
   "metadata": {},
   "outputs": [
    {
     "ename": "SyntaxError",
     "evalue": "invalid syntax (<ipython-input-1-3a783f573611>, line 5)",
     "output_type": "error",
     "traceback": [
      "\u001b[1;36m  File \u001b[1;32m\"<ipython-input-1-3a783f573611>\"\u001b[1;36m, line \u001b[1;32m5\u001b[0m\n\u001b[1;33m    lookup_table = { 1L: 0, 2L: 1 }\u001b[0m\n\u001b[1;37m                      ^\u001b[0m\n\u001b[1;31mSyntaxError\u001b[0m\u001b[1;31m:\u001b[0m invalid syntax\n"
     ]
    }
   ],
   "source": [
    "def solution(n):\n",
    "    n = long(n)\n",
    "\n",
    "    # define lookup table\n",
    "    lookup_table = {  }\n",
    "\n",
    "    def calculate_steps(n):\n",
    "        # return memoized value in lookup table\n",
    "        if n in lookup_table:\n",
    "            return lookup_table[n]\n",
    "\n",
    "        # handle safety control limitations (optimized)\n",
    "        if n & 1:\n",
    "            # odd numbers have an extra operation due to constraint\n",
    "            lookup_table[n] = min(calculate_steps((n + 1) >> 1) + 2,\n",
    "                                  calculate_steps((n - 1) >> 1) + 2)\n",
    "        else:\n",
    "            # even numbers add a single operation\n",
    "            lookup_table[n] = calculate_steps(n >> 1) + 1\n",
    "\n",
    "        return lookup_table[n]\n",
    "\n",
    "    # calculate number of steps\n",
    "    return calculate_steps(n)"
   ]
  },
  {
   "cell_type": "code",
   "execution_count": null,
   "metadata": {},
   "outputs": [],
   "source": []
  }
 ],
 "metadata": {
  "kernelspec": {
   "display_name": "Python 3",
   "language": "python",
   "name": "python3"
  },
  "language_info": {
   "codemirror_mode": {
    "name": "ipython",
    "version": 3
   },
   "file_extension": ".py",
   "mimetype": "text/x-python",
   "name": "python",
   "nbconvert_exporter": "python",
   "pygments_lexer": "ipython3",
   "version": "3.7.1"
  }
 },
 "nbformat": 4,
 "nbformat_minor": 4
}
