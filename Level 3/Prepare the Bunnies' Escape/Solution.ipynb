{
 "cells": [
  {
   "cell_type": "code",
   "execution_count": 4,
   "metadata": {},
   "outputs": [],
   "source": [
    "# Passes 2 Tests\n",
    "\n",
    "from collections import deque\n",
    "\n",
    "# define space station parameters\n",
    "WALL_POWER = 1\n",
    "\n",
    "class Node:\n",
    "    def __init__(self, x, y, power=0):\n",
    "        self.x = x\n",
    "        self.y = y\n",
    "        self.power = power\n",
    "\n",
    "    def __iter__(self):\n",
    "        return iter([self.x, self.y])\n",
    "\n",
    "    def __hash__(self):\n",
    "        return hash(tuple(self))\n",
    "\n",
    "    def __eq__(self, node):\n",
    "        return self.x == node.x and self.y == node.y\n",
    "\n",
    "    def __str__(self):\n",
    "        return \"({n.x}, {n.y})\".format(n=self)\n",
    "\n",
    "    def __repr__(self):\n",
    "        return self.__str__()\n",
    "\n",
    "class Router:\n",
    "    def __init__(self, matrix, power):\n",
    "        self.matrix = matrix\n",
    "        self.power = power\n",
    "\n",
    "        self.width = len(matrix[0])\n",
    "        self.height = len(matrix)\n",
    "        self.offsets = [(-1, 0), (0, -1), (0, 1), (1, 0)]\n",
    "\n",
    "        self.visited = set()\n",
    "        self.distances = {}\n",
    "\n",
    "    def is_wall(self, x, y):\n",
    "        return self.matrix[y][x] == 1\n",
    "\n",
    "    def get_adjacent(self, node):\n",
    "        for offset in self.offsets:\n",
    "            x, y = list(tuple(u + v for u, v in zip((node.x, node.y), offset)))\n",
    "            if self.width > x >= 0 and self.height > y >= 0:\n",
    "                neighbor = Node(x, y, node.power)\n",
    "                if self.is_wall(x, y):\n",
    "                    if neighbor.power > 0:\n",
    "                        neighbor.power -= 1\n",
    "                        yield neighbor\n",
    "                else:\n",
    "                    yield neighbor\n",
    "\n",
    "    def distance(self, start, end):\n",
    "        # configure initial values\n",
    "        self.distances[start] = 1\n",
    "        start.power = self.power\n",
    "\n",
    "        # configure queue\n",
    "        queue = deque([])\n",
    "        queue.append(start)\n",
    "\n",
    "        while queue:\n",
    "            # grab first node in queue\n",
    "            current = queue.popleft()\n",
    "            self.visited.add(current)\n",
    "\n",
    "            # return distance when we reach our destination\n",
    "            if current == end:\n",
    "                return self.distances[current]\n",
    "\n",
    "            # find all adjacent nodes\n",
    "            for neighbor in self.get_adjacent(current):\n",
    "                # process unvisited nodes only\n",
    "                if neighbor not in self.visited:\n",
    "                    self.distances[neighbor] = self.distances[current] + 1\n",
    "                    queue.append(neighbor)\n",
    "\n",
    "        return float('inf')\n",
    "\n",
    "def solution(maze):\n",
    "    # create space station router\n",
    "    station = Router(maze, power=WALL_POWER)\n",
    "\n",
    "    # create enter/exit coordinates\n",
    "    enter = Node(0, 0)\n",
    "    exit = Node(station.width-1, station.height-1)\n",
    "\n",
    "    # calculate distance between given coordinates\n",
    "    distance = station.distance(enter, exit)\n",
    "\n",
    "    return distance"
   ]
  },
  {
   "cell_type": "code",
   "execution_count": 5,
   "metadata": {},
   "outputs": [
    {
     "data": {
      "text/plain": [
       "7"
      ]
     },
     "execution_count": 5,
     "metadata": {},
     "output_type": "execute_result"
    }
   ],
   "source": [
    "solution([[0, 1, 1, 0], [0, 0, 0, 1], [1, 1, 0, 0], [1, 1, 1, 0]])"
   ]
  },
  {
   "cell_type": "code",
   "execution_count": 6,
   "metadata": {},
   "outputs": [
    {
     "data": {
      "text/plain": [
       "11"
      ]
     },
     "execution_count": 6,
     "metadata": {},
     "output_type": "execute_result"
    }
   ],
   "source": [
    "solution([[0, 0, 0, 0, 0, 0], [1, 1, 1, 1, 1, 0], [0, 0, 0, 0, 0, 0], [0, 1, 1, 1, 1, 1], [0, 1, 1, 1, 1, 1], [0, 0, 0, 0, 0, 0]])"
   ]
  },
  {
   "cell_type": "code",
   "execution_count": null,
   "metadata": {},
   "outputs": [],
   "source": []
  }
 ],
 "metadata": {
  "kernelspec": {
   "display_name": "Python 3",
   "language": "python",
   "name": "python3"
  },
  "language_info": {
   "codemirror_mode": {
    "name": "ipython",
    "version": 3
   },
   "file_extension": ".py",
   "mimetype": "text/x-python",
   "name": "python",
   "nbconvert_exporter": "python",
   "pygments_lexer": "ipython3",
   "version": "3.7.1"
  }
 },
 "nbformat": 4,
 "nbformat_minor": 4
}
