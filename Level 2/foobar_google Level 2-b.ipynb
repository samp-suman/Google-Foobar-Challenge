{
 "cells": [
  {
   "cell_type": "markdown",
   "metadata": {},
   "source": [
    "Please Pass the Coded Messages\n",
    "==============================\n",
    "\n",
    "You need to pass a message to the bunny prisoners, but to avoid detection, the code you agreed to use is... obscure, to say the least. The bunnies are given food on standard-issue prison plates that are stamped with the numbers 0-9 for easier sorting, and you need to combine sets of plates to create the numbers in the code. The signal that a number is part of the code is that it is divisible by 3. You can do smaller numbers like 15 and 45 easily, but bigger numbers like 144 and 414 are a little trickier. Write a program to help yourself quickly create large numbers for use in the code, given a limited number of plates to work with.\n",
    "\n",
    "You have L, a list containing some digits (0 to 9). Write a function solution(L) which finds the largest number that can be made from some or all of these digits and is divisible by 3. If it is not possible to make such a number, return 0 as the solution. L will contain anywhere from 1 to 9 digits.  The same digit may appear multiple times in the list, but each element in the list may only be used once.\n",
    "\n",
    "Languages\n",
    "=========\n",
    "\n",
    "To provide a Java solution, edit Solution.java\n",
    "To provide a Python solution, edit solution.py\n",
    "\n",
    "Test cases\n",
    "==========\n",
    "Your code should pass the following test cases.\n",
    "Note that it may also be run against hidden test cases not shown here.\n",
    "\n",
    "-- Java cases --\n",
    "\n",
    "Input:\n",
    "Solution.solution({3, 1, 4, 1})\n",
    "Output:\n",
    "    4311\n",
    "\n",
    "Input:\n",
    "Solution.solution({3, 1, 4, 1, 5, 9})\n",
    "Output:\n",
    "    94311\n",
    "\n",
    "-- Python cases --\n",
    "\n",
    "Input:\n",
    "solution.solution([3, 1, 4, 1])\n",
    "Output:\n",
    "    4311\n",
    "\n",
    "Input:\n",
    "solution.solution([3, 1, 4, 1, 5, 9])\n",
    "Output:\n",
    "    94311\n"
   ]
  },
  {
   "cell_type": "code",
   "execution_count": 3,
   "metadata": {},
   "outputs": [],
   "source": [
    "# You have L, a list containing some digits (0 to 9). Write a function solution(L) \n",
    "# which finds the largest number that can be made from some or all of these digits and is divisible by 3.\n",
    "# If it is not possible to make such a number, return 0 as the solution. L will contain anywhere from 1 to 9 digits. \n",
    "# The same digit may appear multiple times in the list, but each element in the list may only be used once."
   ]
  },
  {
   "cell_type": "code",
   "execution_count": 69,
   "metadata": {},
   "outputs": [],
   "source": [
    "def solution(l):\n",
    "    l.sort()\n",
    "    s=sum(l)\n",
    "    if s%3!=0:\n",
    "        for i in l:\n",
    "            if (s-i)%3==0:\n",
    "                l.remove(i)\n",
    "        if sum(l)%3!=0:\n",
    "            s=sum(l)\n",
    "            for i in l:\n",
    "                if (s-i)%3==0:\n",
    "                    l.remove(i)\n",
    "        if sum(l)%3!=0:\n",
    "            s=sum(l)\n",
    "            rem=s%3\n",
    "            if rem==1:\n",
    "                c=0\n",
    "                l1=tuple(l)\n",
    "                for i in l:\n",
    "                    if i%3==2:\n",
    "                        l.remove(i)\n",
    "                        c+=1\n",
    "                    if c==2:\n",
    "                        break\n",
    "            else:\n",
    "                c=0\n",
    "                l1=tuple(l)\n",
    "                for i in l1:\n",
    "                    #print(i)\n",
    "                    if i%3==1:\n",
    "                        l.remove(i)\n",
    "                        #print('Reomoved ',i,' remaining',l)\n",
    "                        c+=1\n",
    "                    if c==2:\n",
    "                        #print(l)\n",
    "                        break\n",
    "    if sum(l)%3!=0:\n",
    "        return 0\n",
    "    for i in range(len(l)):\n",
    "        l[i]=l[i]*10**i\n",
    "    return sum(l)"
   ]
  },
  {
   "cell_type": "code",
   "execution_count": 70,
   "metadata": {},
   "outputs": [],
   "source": [
    "l=[0,3,2,6,9,0]"
   ]
  },
  {
   "cell_type": "code",
   "execution_count": 71,
   "metadata": {},
   "outputs": [
    {
     "data": {
      "text/plain": [
       "96300"
      ]
     },
     "execution_count": 71,
     "metadata": {},
     "output_type": "execute_result"
    }
   ],
   "source": [
    "solution(l)"
   ]
  },
  {
   "cell_type": "code",
   "execution_count": 72,
   "metadata": {},
   "outputs": [
    {
     "data": {
      "text/plain": [
       "9"
      ]
     },
     "execution_count": 72,
     "metadata": {},
     "output_type": "execute_result"
    }
   ],
   "source": [
    "solution([4,7,9])"
   ]
  },
  {
   "cell_type": "code",
   "execution_count": 79,
   "metadata": {},
   "outputs": [
    {
     "data": {
      "text/plain": [
       "0"
      ]
     },
     "execution_count": 79,
     "metadata": {},
     "output_type": "execute_result"
    }
   ],
   "source": [
    "solution([100])"
   ]
  },
  {
   "cell_type": "code",
   "execution_count": null,
   "metadata": {},
   "outputs": [],
   "source": []
  },
  {
   "cell_type": "code",
   "execution_count": 7,
   "metadata": {},
   "outputs": [],
   "source": [
    "# fron \n",
    "def findLargest(n, v): \n",
    "    flag = 0\n",
    "    sum = 0\n",
    "      \n",
    "    # find sum of all the digits \n",
    "    # look if any 0 is present or not \n",
    "#     for i in range(n): \n",
    "#         if (v[i] == 0): \n",
    "#             flag = 1\n",
    "#         sum += v[i] \n",
    "  \n",
    "    # if 0 is not present, the resultant number \n",
    "    # won't be divisible by 5 \n",
    "    if (flag == -1): \n",
    "        print(\"Not possible\") \n",
    "  \n",
    "    else: \n",
    "          \n",
    "        # sort all the elements in a  \n",
    "        # non-decreasing manner \n",
    "        v.sort(reverse = True) \n",
    "  \n",
    "        # if there is just one element 0 \n",
    "        if (v[0] == 0): \n",
    "            print(\"0\") \n",
    "            return 0\n",
    "          \n",
    "        else: \n",
    "            flag = 0\n",
    "  \n",
    "            # find the remainder of the sum \n",
    "            # of digits when divided by 3 \n",
    "            y = sum % 3\n",
    "  \n",
    "            # there can a remainder as 1 or 2 \n",
    "            if (y != 0): \n",
    "                  \n",
    "                # traverse from the end of the digits \n",
    "                i = n - 1\n",
    "                while(i >= 0): \n",
    "                      \n",
    "                    # first element which has the same  \n",
    "                    # remainder, remove it \n",
    "                    if (v[i] % 3 == y): \n",
    "                        v.remove(v[i]) \n",
    "                        flag = 1\n",
    "                        break\n",
    "                    i -= 1\n",
    "                  \n",
    "                # if there is no element which \n",
    "                # has a same remainder as y \n",
    "                if (flag == 0): \n",
    "                      \n",
    "                    # subtract it by 3 ( could be one or two) \n",
    "                    y = 3 - y \n",
    "  \n",
    "                    cnt = 0\n",
    "                    i = n - 1\n",
    "                    while(i >= 0): \n",
    "                          \n",
    "                        # delete two minimal digits \n",
    "                        # which has a remainder as y \n",
    "                        if (v[i] % 3 == y): \n",
    "                            v.remove(v[i]) \n",
    "                            cnt += 1\n",
    "  \n",
    "                            if (cnt >= 2): \n",
    "                                break\n",
    "                          \n",
    "                        i -= 1\n",
    "                  \n",
    "            if (v[0] == 0): \n",
    "                print(\"0\") \n",
    "  \n",
    "            # print all the digits as a single integer \n",
    "            else: \n",
    "                for i in (v): \n",
    "                    print(i, end = \"\") \n",
    "          "
   ]
  },
  {
   "cell_type": "code",
   "execution_count": 118,
   "metadata": {},
   "outputs": [
    {
     "name": "stdout",
     "output_type": "stream",
     "text": [
      "974"
     ]
    }
   ],
   "source": [
    "findLargest(3,[4,7,9])"
   ]
  },
  {
   "cell_type": "code",
   "execution_count": null,
   "metadata": {},
   "outputs": [],
   "source": []
  },
  {
   "cell_type": "code",
   "execution_count": null,
   "metadata": {},
   "outputs": [],
   "source": []
  },
  {
   "cell_type": "code",
   "execution_count": null,
   "metadata": {},
   "outputs": [],
   "source": []
  },
  {
   "cell_type": "code",
   "execution_count": 116,
   "metadata": {},
   "outputs": [],
   "source": [
    "import itertools\n",
    "def answer(l):\n",
    "#     '#remove the zeros to speed combinatorial analysis:'\n",
    "    zero_count = l.count(0)\n",
    "    for i in range(l.count(0)):\n",
    "        l.pop(l.index(0))\n",
    "\n",
    "#    '''# to check if a number is divisible by three, check if the sum'\n",
    "#    '# of the individual integers that make up the number is divisible'\n",
    "#    '# by three. (e.g.  431:  4+3+1 = 8,  8 % 3 != 0,  thus 431 % 3 != 0) '''\n",
    "    b = len(l)\n",
    "    l.sort(reverse=True)\n",
    "    while b >= len(l)-2:\n",
    "        combo = itertools.combinations(l, b)\n",
    "        for thing in combo:\n",
    "\n",
    "            '# if number is divisible by 3, reverse sort it and tack on zeros left behind' \n",
    "\n",
    "            if sum(thing) % 3 == 0:\n",
    "#                 thing = sorted(thing, reverse = True)\n",
    "                max_div_3 = ''\n",
    "                for digit in thing:\n",
    "                    max_div_3 += str(digit)\n",
    "                max_div_3 += '0'* zero_count\n",
    "                return int(max_div_3)\n",
    "        b -= 1\n",
    "\n",
    "    return int(0)"
   ]
  },
  {
   "cell_type": "code",
   "execution_count": 117,
   "metadata": {},
   "outputs": [
    {
     "data": {
      "text/plain": [
       "74310"
      ]
     },
     "execution_count": 117,
     "metadata": {},
     "output_type": "execute_result"
    }
   ],
   "source": [
    "answer([1,0,3,4,5,7])"
   ]
  },
  {
   "cell_type": "code",
   "execution_count": 99,
   "metadata": {},
   "outputs": [],
   "source": []
  },
  {
   "cell_type": "code",
   "execution_count": null,
   "metadata": {},
   "outputs": [],
   "source": []
  },
  {
   "cell_type": "code",
   "execution_count": null,
   "metadata": {},
   "outputs": [],
   "source": []
  }
 ],
 "metadata": {
  "kernelspec": {
   "display_name": "Python 3",
   "language": "python",
   "name": "python3"
  },
  "language_info": {
   "codemirror_mode": {
    "name": "ipython",
    "version": 3
   },
   "file_extension": ".py",
   "mimetype": "text/x-python",
   "name": "python",
   "nbconvert_exporter": "python",
   "pygments_lexer": "ipython3",
   "version": "3.7.1"
  }
 },
 "nbformat": 4,
 "nbformat_minor": 4
}
