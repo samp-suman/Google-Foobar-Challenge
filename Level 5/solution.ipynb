{
 "cells": [
  {
   "cell_type": "code",
   "execution_count": null,
   "metadata": {},
   "outputs": [],
   "source": []
  },
  {
   "cell_type": "markdown",
   "metadata": {},
   "source": [
    "#### APPROACH\n",
    "First, let us take a look at the problem. Given x, find the sum below,\n",
    "\n",
    "\\lfloor{\\sqrt{2}}\\rfloor + \\lfloor{2\\sqrt{2}}\\rfloor + \\lfloor{3\\sqrt{2}}\\rfloor + ... + \\lfloor{x\\sqrt{2}}\\rfloor"
   ]
  },
  {
   "cell_type": "code",
   "execution_count": null,
   "metadata": {},
   "outputs": [],
   "source": []
  },
  {
   "cell_type": "code",
   "execution_count": null,
   "metadata": {},
   "outputs": [],
   "source": []
  },
  {
   "cell_type": "code",
   "execution_count": null,
   "metadata": {},
   "outputs": [],
   "source": []
  },
  {
   "cell_type": "code",
   "execution_count": 2,
   "metadata": {},
   "outputs": [],
   "source": [
    "def floor_root_2(x):\n",
    "    sqrt_2 = long(\"41421356237309504880168872420969807856967187537694807317667973799073247846210703885038753432764157273501384623091229702492483605585073721264412149709993583141322266592750559275579995050115278206\")\n",
    "    ten_power = long(\"100000000000000000000000000000000000000000000000000000000000000000000000000000000000000000000000000000000000000000000000000000000000000000000000000000000000000000000000000000000000000000000000000\")\n",
    "    ret = long((x*(x+1))/2)\n",
    "    if x <= 10:\n",
    "        for i in range(x):\n",
    "            ret += long((sqrt_2*(i+1))/ten_power)\n",
    "        return ret\n",
    "    last_term = long((sqrt_2 * x) / ten_power)\n",
    "    ret += (x * last_term ) - long((last_term * (last_term + 1))/2) - floor_root_2(last_term)\n",
    "    return ret\n",
    "    \n",
    "def solution(str_n):\n",
    "    return str(floor_root_2(long(str_n)))"
   ]
  },
  {
   "cell_type": "code",
   "execution_count": null,
   "metadata": {},
   "outputs": [],
   "source": []
  }
 ],
 "metadata": {
  "kernelspec": {
   "display_name": "Python 3",
   "language": "python",
   "name": "python3"
  },
  "language_info": {
   "codemirror_mode": {
    "name": "ipython",
    "version": 3
   },
   "file_extension": ".py",
   "mimetype": "text/x-python",
   "name": "python",
   "nbconvert_exporter": "python",
   "pygments_lexer": "ipython3",
   "version": "3.7.1"
  }
 },
 "nbformat": 4,
 "nbformat_minor": 4
}
