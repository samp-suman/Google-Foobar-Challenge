{
 "cells": [
  {
   "cell_type": "markdown",
   "metadata": {},
   "source": [
    "# Bringing a Gun to a Guard Fight"
   ]
  },
  {
   "cell_type": "raw",
   "metadata": {},
   "source": [
    "The first thing you had to realize in order to solve this challenge is that you\n",
    "could simply mirror the room and check if the beam gets where you want. Let me\n",
    "show you:\n",
    "In our case let us make a room of dimension [3,2], with the position of the\n",
    "target at [1,2]. For the sake of simplicity let us imagine the beam is shot at\n",
    "[1,2] and so we are trying to shot ourselves. We get something like this:\n",
    "              -----\n",
    "              |*xx|\n",
    "              |xxx|\n",
    "              -----\n",
    "If we shoot with a vector of [1,0], aka straight ahead, we will get this result:\n",
    "              -----\n",
    "              |*~~|\n",
    "              |xxx|\n",
    "              -----\n",
    "We can see that the beam gets back to you directly, thanks to the reflection,\n",
    "and that the goal is achieved! But there is another way to do that:\n",
    "              ----- -----\n",
    "              |*~~| |~~*|\n",
    "              |xxx| |xxx|\n",
    "              ----- -----\n",
    "We can here realize that, by putting a mirror version of the room where the beam\n",
    "gets, we can make a straight line instead of calculating the reflection and see\n",
    "that it gets to our original target, [1,2], being ourselves!\n",
    "The good thing with that is that it also allows us to determine the distance\n",
    "needed by the beam to get through, and thus we can mirror the rooms up to the\n",
    "maximum distance easily.\n",
    "\n",
    "The next thing to realize was that room mirrors in a pattern, see the below\n",
    "diagram:\n",
    "              -----\n",
    "              |*xx|\n",
    "              |xxx|\n",
    "              -----\n",
    "     [...]    -----   [...]\n",
    "              |xxx|\n",
    "              |*xx|\n",
    "              -----\n",
    "  ----- ----- ----- ----- -----\n",
    "  |*xx| |xx*| |*xx| |xx*| |*xx|\n",
    "  |xxx| |xxx| |xxx| |xxx| |xxx|\n",
    "  ----- ----- ----- ----- -----\n",
    "              -----\n",
    "              |xxx|\n",
    "              |*xx|\n",
    "              -----\n",
    "     [...]    -----   [...]\n",
    "              |*xx|\n",
    "              |xxx|\n",
    "              -----\n",
    "x always repeats in the same way, and so does y\n",
    "Thus we need to figure out how to calculate how to mirror one room twice and we\n",
    "can make an entire atlas of mirrored rooms!\n",
    "In our case though the function below only calculates the mirrors of the point\n",
    "of coordinates node across an atlas of length (distance*2)^2"
   ]
  },
  {
   "cell_type": "code",
   "execution_count": 10,
   "metadata": {},
   "outputs": [],
   "source": [
    "from math import atan2,sqrt\n",
    "\n",
    "def mirror_atlas(node, dimensions, distance):\n",
    "    node_mirrored=[]\n",
    "    for i in range(len(node)):\n",
    "        points=[]\n",
    "        for j in range(-(distance//dimensions[i])-1, (distance//dimensions[i]+2)):\n",
    "            points.append(get_mirror(j, node[i], dimensions[i]))\n",
    "        node_mirrored.append(points)\n",
    "    return node_mirrored\n",
    "\n",
    "def get_mirror(mirror, coordinates, dimensions):\n",
    "    res=coordinates\n",
    "    mirror_rotation=[2*coordinates, 2*(dimensions-coordinates)]\n",
    "    if(mirror<0):\n",
    "        for i in range(mirror, 0):\n",
    "            res-=mirror_rotation[(i+1)%2]\n",
    "    else:\n",
    "        for i in range(mirror, 0, -1):\n",
    "            res+=mirror_rotation[i%2]\n",
    "    return res \n",
    "\n",
    "def solution(dimensions, your_position, guard_position, distance):\n",
    "    mirrored = [mirror_atlas(your_position, dimensions,\n",
    "        distance),mirror_atlas(guard_position, dimensions, distance)]\n",
    "    res=set()\n",
    "    angles_dist={}\n",
    "    for i in range(0, len(mirrored)):\n",
    "        for j in mirrored[i][0]:\n",
    "            for k in mirrored[i][1]:\n",
    "                beam=atan2((your_position[1]-k), (your_position[0]-j))\n",
    "                l=sqrt((your_position[0]-j)**2 + (your_position[1]-k)**2)\n",
    "                if [j,k] != your_position and distance >= l:\n",
    "                    if((beam in angles_dist and angles_dist[beam] > l) or beam not in angles_dist):\n",
    "                        if i == 0:\n",
    "                            angles_dist[beam] = l\n",
    "                        else:\n",
    "                            angles_dist[beam] = l\n",
    "                            res.add(beam)\n",
    "    return len(res) \n"
   ]
  },
  {
   "cell_type": "code",
   "execution_count": 12,
   "metadata": {},
   "outputs": [
    {
     "data": {
      "text/plain": [
       "7"
      ]
     },
     "execution_count": 12,
     "metadata": {},
     "output_type": "execute_result"
    }
   ],
   "source": [
    "solution([3,2], [1,1], [2,1], 4)"
   ]
  },
  {
   "cell_type": "code",
   "execution_count": null,
   "metadata": {},
   "outputs": [],
   "source": []
  }
 ],
 "metadata": {
  "kernelspec": {
   "display_name": "Python 3",
   "language": "python",
   "name": "python3"
  },
  "language_info": {
   "codemirror_mode": {
    "name": "ipython",
    "version": 3
   },
   "file_extension": ".py",
   "mimetype": "text/x-python",
   "name": "python",
   "nbconvert_exporter": "python",
   "pygments_lexer": "ipython3",
   "version": "3.7.1"
  }
 },
 "nbformat": 4,
 "nbformat_minor": 4
}
