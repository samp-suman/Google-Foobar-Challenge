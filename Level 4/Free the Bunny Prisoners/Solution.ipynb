{
 "cells": [
  {
   "cell_type": "markdown",
   "metadata": {},
   "source": [
    "Free the Bunny Prisoners\n",
    "========================\n",
    "\n",
    "\n",
    "Test cases\n",
    "==========\n",
    "Your code should pass the following test cases.\n",
    "Note that it may also be run against hidden test cases not shown here.\n",
    "\n",
    "-- Python cases --\n",
    "\n",
    "Input:\n",
    "solution.solution(2, 1)\n",
    "\n",
    "Output:\n",
    "    [[0], [0]]\n",
    "\n",
    "Input:\n",
    "solution.solution(4, 4)\n",
    "\n",
    "Output:\n",
    "    [[0], [1], [2], [3]]\n",
    "\n",
    "Input:\n",
    "solution.solution(5, 3)\n",
    "\n",
    "Output:\n",
    "    [[0, 1, 2, 3, 4, 5], [0, 1, 2, 6, 7, 8], [0, 3, 4, 6, 7, 9], [1, 3, 5, 6, 8, 9], [2, 4, 5, 7, 8, 9]]"
   ]
  },
  {
   "cell_type": "code",
   "execution_count": null,
   "metadata": {},
   "outputs": [],
   "source": []
  },
  {
   "cell_type": "code",
   "execution_count": null,
   "metadata": {},
   "outputs": [],
   "source": []
  },
  {
   "cell_type": "code",
   "execution_count": null,
   "metadata": {},
   "outputs": [],
   "source": []
  },
  {
   "cell_type": "markdown",
   "metadata": {},
   "source": [
    "This problem is a based on combinatorics. To make to notation clear, let us consider that there are b bunnies and r are required. Let us now consider this simple situation, let us say we have chosen r-1 bunnies at random, and we were to choose 1 more bunny to get the complete set of keys to open the prison door. We know that these r-1 bunnies cannot open the door by themselves and hence the remaining b-r+1 bunnies must have a key that these r-1 bunnies don’t. We can exploit this property to solve the problem. We need to generate all combinations of size b-r+1 bunnies and add a unique key to each of these bunnies. The code for this in python is as below."
   ]
  },
  {
   "cell_type": "code",
   "execution_count": 5,
   "metadata": {},
   "outputs": [],
   "source": [
    "# Solution\n",
    "from itertools import combinations\n",
    "\n",
    "def solution(num_buns, num_required):\n",
    "    buns = [[] for i in range(num_buns)]\n",
    "    if num_required == 0:\n",
    "        return buns\n",
    "    start = 0\n",
    "    for c in combinations(buns, num_buns - num_required + 1):\n",
    "        for item in c:\n",
    "            item.append(start)\n",
    "        start += 1\n",
    "    return buns"
   ]
  },
  {
   "cell_type": "code",
   "execution_count": 6,
   "metadata": {},
   "outputs": [
    {
     "data": {
      "text/plain": [
       "[[0, 1, 2, 3, 4, 5],\n",
       " [0, 1, 2, 6, 7, 8],\n",
       " [0, 3, 4, 6, 7, 9],\n",
       " [1, 3, 5, 6, 8, 9],\n",
       " [2, 4, 5, 7, 8, 9]]"
      ]
     },
     "execution_count": 6,
     "metadata": {},
     "output_type": "execute_result"
    }
   ],
   "source": [
    "solution(5, 3)"
   ]
  },
  {
   "cell_type": "markdown",
   "metadata": {},
   "source": [
    "### Reference\n",
    "* <a href='https://en.wikipedia.org/wiki/Combination'>Combination</a>\n",
    "* <a href='https://en.wikipedia.org/wiki/Pigeonhole_principle'>Pigeonhole principle</a>\n",
    "* <a href='https://surajshetiya.github.io/Google-foobar/#round-4'>Google Foobar Round 4</a>"
   ]
  },
  {
   "cell_type": "code",
   "execution_count": 3,
   "metadata": {},
   "outputs": [],
   "source": [
    "# To me, this appears to be a classic combinations problem. This makes sense, given previous questions were also based\n",
    "# upon mathematical theories.\n",
    "\n",
    "# So another way of looking at this problem... is to word it like this:\n",
    "# If you have N bunnies, and M locks, distribute M distinct keys among the bunnies so that it will always require\n",
    "# num_required bunnies to open the locks.\n",
    "\n",
    "# Another property of this: There should be M copies of each distinct key among the bunnies, and no bunny should have\n",
    "# the same key twice.\n",
    "\n",
    "# Thus, for the example of N = 5 and M = 3, there are 5 choose 3 distinct keys (10 keys).\n",
    "# We must distribute copies of all 10 keys amongst the bunnies in such a way that any 3 bunnies we pair together have,\n",
    "# amongst them, at least one copy of every key."
   ]
  },
  {
   "cell_type": "code",
   "execution_count": 15,
   "metadata": {},
   "outputs": [],
   "source": [
    "buns=[[i] for i in range(5)]"
   ]
  },
  {
   "cell_type": "code",
   "execution_count": 16,
   "metadata": {},
   "outputs": [
    {
     "data": {
      "text/plain": [
       "[[0], [1], [2], [3], [4]]"
      ]
     },
     "execution_count": 16,
     "metadata": {},
     "output_type": "execute_result"
    }
   ],
   "source": [
    "buns"
   ]
  },
  {
   "cell_type": "code",
   "execution_count": 19,
   "metadata": {},
   "outputs": [],
   "source": [
    "start=0\n",
    "for i in combinations(buns,3):\n",
    "    for item in i:\n",
    "        item.append(start)\n",
    "    start+=1"
   ]
  },
  {
   "cell_type": "code",
   "execution_count": 20,
   "metadata": {},
   "outputs": [
    {
     "data": {
      "text/plain": [
       "[[0, 0, 1, 2, 3, 4, 5],\n",
       " [1, 0, 1, 2, 6, 7, 8],\n",
       " [2, 0, 3, 4, 6, 7, 9],\n",
       " [3, 1, 3, 5, 6, 8, 9],\n",
       " [4, 2, 4, 5, 7, 8, 9]]"
      ]
     },
     "execution_count": 20,
     "metadata": {},
     "output_type": "execute_result"
    }
   ],
   "source": [
    "buns"
   ]
  },
  {
   "cell_type": "code",
   "execution_count": null,
   "metadata": {},
   "outputs": [],
   "source": []
  }
 ],
 "metadata": {
  "kernelspec": {
   "display_name": "Python 3",
   "language": "python",
   "name": "python3"
  },
  "language_info": {
   "codemirror_mode": {
    "name": "ipython",
    "version": 3
   },
   "file_extension": ".py",
   "mimetype": "text/x-python",
   "name": "python",
   "nbconvert_exporter": "python",
   "pygments_lexer": "ipython3",
   "version": "3.7.1"
  }
 },
 "nbformat": 4,
 "nbformat_minor": 4
}
